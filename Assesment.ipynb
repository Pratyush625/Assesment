{
 "cells": [
  {
   "cell_type": "code",
   "execution_count": 30,
   "id": "480d9ac3",
   "metadata": {},
   "outputs": [],
   "source": [
    "import pandas as pd"
   ]
  },
  {
   "cell_type": "code",
   "execution_count": 31,
   "id": "1385b428",
   "metadata": {},
   "outputs": [],
   "source": [
    "data=pd.DataFrame([{\"Gender\": \"Male\", \"HeightCm\": 171, \"WeightKg\": 96 },\n",
    "                { \"Gender\": \"Male\", \"HeightCm\": 161, \"WeightKg\": 85 },\n",
    "                { \"Gender\": \"Male\", \"HeightCm\": 180, \"WeightKg\": 77 },\n",
    "                { \"Gender\": \"Female\", \"HeightCm\": 166, \"WeightKg\": 62},\n",
    "                {\"Gender\": \"Female\", \"HeightCm\": 150, \"WeightKg\": 70},\n",
    "                {\"Gender\": \"Female\", \"HeightCm\": 167, \"WeightKg\": 82}])\n"
   ]
  },
  {
   "cell_type": "code",
   "execution_count": 32,
   "id": "a2a1446e",
   "metadata": {},
   "outputs": [
    {
     "data": {
      "text/html": [
       "<div>\n",
       "<style scoped>\n",
       "    .dataframe tbody tr th:only-of-type {\n",
       "        vertical-align: middle;\n",
       "    }\n",
       "\n",
       "    .dataframe tbody tr th {\n",
       "        vertical-align: top;\n",
       "    }\n",
       "\n",
       "    .dataframe thead th {\n",
       "        text-align: right;\n",
       "    }\n",
       "</style>\n",
       "<table border=\"1\" class=\"dataframe\">\n",
       "  <thead>\n",
       "    <tr style=\"text-align: right;\">\n",
       "      <th></th>\n",
       "      <th>Gender</th>\n",
       "      <th>HeightCm</th>\n",
       "      <th>WeightKg</th>\n",
       "    </tr>\n",
       "  </thead>\n",
       "  <tbody>\n",
       "    <tr>\n",
       "      <th>0</th>\n",
       "      <td>Male</td>\n",
       "      <td>171</td>\n",
       "      <td>96</td>\n",
       "    </tr>\n",
       "    <tr>\n",
       "      <th>1</th>\n",
       "      <td>Male</td>\n",
       "      <td>161</td>\n",
       "      <td>85</td>\n",
       "    </tr>\n",
       "    <tr>\n",
       "      <th>2</th>\n",
       "      <td>Male</td>\n",
       "      <td>180</td>\n",
       "      <td>77</td>\n",
       "    </tr>\n",
       "    <tr>\n",
       "      <th>3</th>\n",
       "      <td>Female</td>\n",
       "      <td>166</td>\n",
       "      <td>62</td>\n",
       "    </tr>\n",
       "    <tr>\n",
       "      <th>4</th>\n",
       "      <td>Female</td>\n",
       "      <td>150</td>\n",
       "      <td>70</td>\n",
       "    </tr>\n",
       "    <tr>\n",
       "      <th>5</th>\n",
       "      <td>Female</td>\n",
       "      <td>167</td>\n",
       "      <td>82</td>\n",
       "    </tr>\n",
       "  </tbody>\n",
       "</table>\n",
       "</div>"
      ],
      "text/plain": [
       "   Gender  HeightCm  WeightKg\n",
       "0    Male       171        96\n",
       "1    Male       161        85\n",
       "2    Male       180        77\n",
       "3  Female       166        62\n",
       "4  Female       150        70\n",
       "5  Female       167        82"
      ]
     },
     "execution_count": 32,
     "metadata": {},
     "output_type": "execute_result"
    }
   ],
   "source": [
    "data"
   ]
  },
  {
   "cell_type": "markdown",
   "id": "5c343aad",
   "metadata": {},
   "source": [
    "1. Calculate the BMI (Body Mass Index) using Formula 1, BMI Category and Health riskfrom Table 1 of the person and add them as 3 new columns\n"
   ]
  },
  {
   "cell_type": "code",
   "execution_count": 33,
   "id": "4462ddd0",
   "metadata": {},
   "outputs": [],
   "source": [
    "data['BMI kg/m2']=data['WeightKg']/(data['HeightCm']/100)"
   ]
  },
  {
   "cell_type": "code",
   "execution_count": 34,
   "id": "14576b8d",
   "metadata": {},
   "outputs": [
    {
     "data": {
      "text/html": [
       "<div>\n",
       "<style scoped>\n",
       "    .dataframe tbody tr th:only-of-type {\n",
       "        vertical-align: middle;\n",
       "    }\n",
       "\n",
       "    .dataframe tbody tr th {\n",
       "        vertical-align: top;\n",
       "    }\n",
       "\n",
       "    .dataframe thead th {\n",
       "        text-align: right;\n",
       "    }\n",
       "</style>\n",
       "<table border=\"1\" class=\"dataframe\">\n",
       "  <thead>\n",
       "    <tr style=\"text-align: right;\">\n",
       "      <th></th>\n",
       "      <th>Gender</th>\n",
       "      <th>HeightCm</th>\n",
       "      <th>WeightKg</th>\n",
       "      <th>BMI kg/m2</th>\n",
       "    </tr>\n",
       "  </thead>\n",
       "  <tbody>\n",
       "    <tr>\n",
       "      <th>0</th>\n",
       "      <td>Male</td>\n",
       "      <td>171</td>\n",
       "      <td>96</td>\n",
       "      <td>56.140351</td>\n",
       "    </tr>\n",
       "    <tr>\n",
       "      <th>1</th>\n",
       "      <td>Male</td>\n",
       "      <td>161</td>\n",
       "      <td>85</td>\n",
       "      <td>52.795031</td>\n",
       "    </tr>\n",
       "    <tr>\n",
       "      <th>2</th>\n",
       "      <td>Male</td>\n",
       "      <td>180</td>\n",
       "      <td>77</td>\n",
       "      <td>42.777778</td>\n",
       "    </tr>\n",
       "    <tr>\n",
       "      <th>3</th>\n",
       "      <td>Female</td>\n",
       "      <td>166</td>\n",
       "      <td>62</td>\n",
       "      <td>37.349398</td>\n",
       "    </tr>\n",
       "    <tr>\n",
       "      <th>4</th>\n",
       "      <td>Female</td>\n",
       "      <td>150</td>\n",
       "      <td>70</td>\n",
       "      <td>46.666667</td>\n",
       "    </tr>\n",
       "    <tr>\n",
       "      <th>5</th>\n",
       "      <td>Female</td>\n",
       "      <td>167</td>\n",
       "      <td>82</td>\n",
       "      <td>49.101796</td>\n",
       "    </tr>\n",
       "  </tbody>\n",
       "</table>\n",
       "</div>"
      ],
      "text/plain": [
       "   Gender  HeightCm  WeightKg  BMI kg/m2\n",
       "0    Male       171        96  56.140351\n",
       "1    Male       161        85  52.795031\n",
       "2    Male       180        77  42.777778\n",
       "3  Female       166        62  37.349398\n",
       "4  Female       150        70  46.666667\n",
       "5  Female       167        82  49.101796"
      ]
     },
     "execution_count": 34,
     "metadata": {},
     "output_type": "execute_result"
    }
   ],
   "source": [
    "data"
   ]
  },
  {
   "cell_type": "markdown",
   "id": "ceaadf7c",
   "metadata": {},
   "source": [
    "2. Count the total number of overweight people using ranges in the column BMI Category\n",
    "of Table 1, check this is consistent programmatically and add any other observations in\n",
    "the documentation"
   ]
  },
  {
   "cell_type": "code",
   "execution_count": 35,
   "id": "d2550748",
   "metadata": {},
   "outputs": [
    {
     "name": "stdout",
     "output_type": "stream",
     "text": [
      "Count the overweight people -> 1\n"
     ]
    }
   ],
   "source": [
    "print(\"Count the overweight people ->\",\n",
    "      data[(data['BMI kg/m2'] >= 25) &\n",
    "                (data['BMI kg/m2'] <= 29.9)]['BMI kg/m2'].count())"
   ]
  },
  {
   "cell_type": "markdown",
   "id": "8e24da28",
   "metadata": {},
   "source": [
    "## Other observations from Data"
   ]
  },
  {
   "cell_type": "markdown",
   "id": "65d196a2",
   "metadata": {},
   "source": [
    "#### adding the Table -1 colums to the dataframe"
   ]
  },
  {
   "cell_type": "code",
   "execution_count": 67,
   "id": "9829de5a",
   "metadata": {},
   "outputs": [],
   "source": [
    "data['BMI Category ']=['Underweight','Normal weight','Overweight','Moderately obese','Severely obese','Very severely obese']"
   ]
  },
  {
   "cell_type": "code",
   "execution_count": 69,
   "id": "52d65a41",
   "metadata": {},
   "outputs": [],
   "source": [
    "data['BMI Range (kg/m2)']=['18.4 and below','8.5 - 24.9','25 - 29.9','30 - 34.9','35 - 39.9','40 and above']"
   ]
  },
  {
   "cell_type": "code",
   "execution_count": 71,
   "id": "7ccc95fb",
   "metadata": {},
   "outputs": [],
   "source": [
    "data['Health risk']=['Malnutrition risk','Low risk','Enhanced risk','Medium risk','High risk','Very high risk']"
   ]
  },
  {
   "cell_type": "code",
   "execution_count": 73,
   "id": "1c65a6a6",
   "metadata": {},
   "outputs": [
    {
     "data": {
      "text/html": [
       "<div>\n",
       "<style scoped>\n",
       "    .dataframe tbody tr th:only-of-type {\n",
       "        vertical-align: middle;\n",
       "    }\n",
       "\n",
       "    .dataframe tbody tr th {\n",
       "        vertical-align: top;\n",
       "    }\n",
       "\n",
       "    .dataframe thead th {\n",
       "        text-align: right;\n",
       "    }\n",
       "</style>\n",
       "<table border=\"1\" class=\"dataframe\">\n",
       "  <thead>\n",
       "    <tr style=\"text-align: right;\">\n",
       "      <th></th>\n",
       "      <th>Gender</th>\n",
       "      <th>HeightCm</th>\n",
       "      <th>WeightKg</th>\n",
       "      <th>BMI kg/m2</th>\n",
       "      <th>BMI Category</th>\n",
       "      <th>BMI Range (kg/m2)</th>\n",
       "      <th>Health risk</th>\n",
       "    </tr>\n",
       "  </thead>\n",
       "  <tbody>\n",
       "    <tr>\n",
       "      <th>0</th>\n",
       "      <td>Male</td>\n",
       "      <td>171</td>\n",
       "      <td>96</td>\n",
       "      <td>56.140351</td>\n",
       "      <td>Underweight</td>\n",
       "      <td>18.4 and below</td>\n",
       "      <td>Malnutrition risk</td>\n",
       "    </tr>\n",
       "    <tr>\n",
       "      <th>1</th>\n",
       "      <td>Male</td>\n",
       "      <td>161</td>\n",
       "      <td>85</td>\n",
       "      <td>52.795031</td>\n",
       "      <td>Normal weight</td>\n",
       "      <td>8.5 - 24.9</td>\n",
       "      <td>Low risk</td>\n",
       "    </tr>\n",
       "    <tr>\n",
       "      <th>2</th>\n",
       "      <td>Male</td>\n",
       "      <td>180</td>\n",
       "      <td>77</td>\n",
       "      <td>42.777778</td>\n",
       "      <td>Overweight</td>\n",
       "      <td>25 - 29.9</td>\n",
       "      <td>Enhanced risk</td>\n",
       "    </tr>\n",
       "    <tr>\n",
       "      <th>3</th>\n",
       "      <td>Female</td>\n",
       "      <td>166</td>\n",
       "      <td>62</td>\n",
       "      <td>37.349398</td>\n",
       "      <td>Moderately obese</td>\n",
       "      <td>30 - 34.9</td>\n",
       "      <td>Medium risk</td>\n",
       "    </tr>\n",
       "    <tr>\n",
       "      <th>4</th>\n",
       "      <td>Female</td>\n",
       "      <td>150</td>\n",
       "      <td>70</td>\n",
       "      <td>46.666667</td>\n",
       "      <td>Severely obese</td>\n",
       "      <td>35 - 39.9</td>\n",
       "      <td>High risk</td>\n",
       "    </tr>\n",
       "    <tr>\n",
       "      <th>5</th>\n",
       "      <td>Female</td>\n",
       "      <td>167</td>\n",
       "      <td>82</td>\n",
       "      <td>49.101796</td>\n",
       "      <td>Very severely obese</td>\n",
       "      <td>40 and above</td>\n",
       "      <td>Very high risk</td>\n",
       "    </tr>\n",
       "  </tbody>\n",
       "</table>\n",
       "</div>"
      ],
      "text/plain": [
       "   Gender  HeightCm  WeightKg  BMI kg/m2        BMI Category   \\\n",
       "0    Male       171        96  56.140351          Underweight   \n",
       "1    Male       161        85  52.795031        Normal weight   \n",
       "2    Male       180        77  42.777778           Overweight   \n",
       "3  Female       166        62  37.349398     Moderately obese   \n",
       "4  Female       150        70  46.666667       Severely obese   \n",
       "5  Female       167        82  49.101796  Very severely obese   \n",
       "\n",
       "  BMI Range (kg/m2)        Health risk  \n",
       "0    18.4 and below  Malnutrition risk  \n",
       "1        8.5 - 24.9           Low risk  \n",
       "2         25 - 29.9      Enhanced risk  \n",
       "3         30 - 34.9        Medium risk  \n",
       "4         35 - 39.9          High risk  \n",
       "5      40 and above     Very high risk  "
      ]
     },
     "execution_count": 73,
     "metadata": {},
     "output_type": "execute_result"
    }
   ],
   "source": [
    "data"
   ]
  },
  {
   "cell_type": "code",
   "execution_count": 74,
   "id": "b4f59e36",
   "metadata": {},
   "outputs": [
    {
     "name": "stdout",
     "output_type": "stream",
     "text": [
      "<class 'pandas.core.frame.DataFrame'>\n",
      "RangeIndex: 6 entries, 0 to 5\n",
      "Data columns (total 7 columns):\n",
      " #   Column             Non-Null Count  Dtype  \n",
      "---  ------             --------------  -----  \n",
      " 0   Gender             6 non-null      object \n",
      " 1   HeightCm           6 non-null      int64  \n",
      " 2   WeightKg           6 non-null      int64  \n",
      " 3   BMI kg/m2          6 non-null      float64\n",
      " 4   BMI Category       6 non-null      object \n",
      " 5   BMI Range (kg/m2)  6 non-null      object \n",
      " 6   Health risk        6 non-null      object \n",
      "dtypes: float64(1), int64(2), object(4)\n",
      "memory usage: 464.0+ bytes\n"
     ]
    }
   ],
   "source": [
    "data.info()"
   ]
  },
  {
   "cell_type": "markdown",
   "id": "49c28030",
   "metadata": {},
   "source": [
    "#### So there are 3 numerical data and 4 categorical data"
   ]
  },
  {
   "cell_type": "markdown",
   "id": "aeb6e5e2",
   "metadata": {},
   "source": [
    "#### Descriptive analysis of numerical data"
   ]
  },
  {
   "cell_type": "code",
   "execution_count": 79,
   "id": "54aab48a",
   "metadata": {},
   "outputs": [
    {
     "data": {
      "text/html": [
       "<div>\n",
       "<style scoped>\n",
       "    .dataframe tbody tr th:only-of-type {\n",
       "        vertical-align: middle;\n",
       "    }\n",
       "\n",
       "    .dataframe tbody tr th {\n",
       "        vertical-align: top;\n",
       "    }\n",
       "\n",
       "    .dataframe thead th {\n",
       "        text-align: right;\n",
       "    }\n",
       "</style>\n",
       "<table border=\"1\" class=\"dataframe\">\n",
       "  <thead>\n",
       "    <tr style=\"text-align: right;\">\n",
       "      <th></th>\n",
       "      <th>HeightCm</th>\n",
       "      <th>WeightKg</th>\n",
       "      <th>BMI kg/m2</th>\n",
       "    </tr>\n",
       "  </thead>\n",
       "  <tbody>\n",
       "    <tr>\n",
       "      <th>count</th>\n",
       "      <td>6.000000</td>\n",
       "      <td>6.000000</td>\n",
       "      <td>6.000000</td>\n",
       "    </tr>\n",
       "    <tr>\n",
       "      <th>mean</th>\n",
       "      <td>165.833333</td>\n",
       "      <td>78.666667</td>\n",
       "      <td>47.471837</td>\n",
       "    </tr>\n",
       "    <tr>\n",
       "      <th>std</th>\n",
       "      <td>10.028293</td>\n",
       "      <td>11.893976</td>\n",
       "      <td>6.801214</td>\n",
       "    </tr>\n",
       "    <tr>\n",
       "      <th>min</th>\n",
       "      <td>150.000000</td>\n",
       "      <td>62.000000</td>\n",
       "      <td>37.349398</td>\n",
       "    </tr>\n",
       "    <tr>\n",
       "      <th>25%</th>\n",
       "      <td>162.250000</td>\n",
       "      <td>71.750000</td>\n",
       "      <td>43.750000</td>\n",
       "    </tr>\n",
       "    <tr>\n",
       "      <th>50%</th>\n",
       "      <td>166.500000</td>\n",
       "      <td>79.500000</td>\n",
       "      <td>47.884232</td>\n",
       "    </tr>\n",
       "    <tr>\n",
       "      <th>75%</th>\n",
       "      <td>170.000000</td>\n",
       "      <td>84.250000</td>\n",
       "      <td>51.871722</td>\n",
       "    </tr>\n",
       "    <tr>\n",
       "      <th>max</th>\n",
       "      <td>180.000000</td>\n",
       "      <td>96.000000</td>\n",
       "      <td>56.140351</td>\n",
       "    </tr>\n",
       "  </tbody>\n",
       "</table>\n",
       "</div>"
      ],
      "text/plain": [
       "         HeightCm   WeightKg  BMI kg/m2\n",
       "count    6.000000   6.000000   6.000000\n",
       "mean   165.833333  78.666667  47.471837\n",
       "std     10.028293  11.893976   6.801214\n",
       "min    150.000000  62.000000  37.349398\n",
       "25%    162.250000  71.750000  43.750000\n",
       "50%    166.500000  79.500000  47.884232\n",
       "75%    170.000000  84.250000  51.871722\n",
       "max    180.000000  96.000000  56.140351"
      ]
     },
     "execution_count": 79,
     "metadata": {},
     "output_type": "execute_result"
    }
   ],
   "source": [
    "numerical=['HeightCm','WeightKg','BMI kg/m2']\n",
    "data[numerical].describe()"
   ]
  },
  {
   "cell_type": "code",
   "execution_count": 84,
   "id": "49de3a05",
   "metadata": {},
   "outputs": [],
   "source": [
    "import seaborn as sns\n",
    "import matplotlib.pyplot as plt"
   ]
  },
  {
   "cell_type": "code",
   "execution_count": 89,
   "id": "00a58859",
   "metadata": {},
   "outputs": [
    {
     "data": {
      "image/png": "[encoded data removed]",
      "text/plain": [
       "<Figure size 1080x720 with 4 Axes>"
      ]
     },
     "metadata": {
      "needs_background": "light"
     },
     "output_type": "display_data"
    }
   ],
   "source": [
    "# Create histogram for numerical variable\n",
    "fig, axs = plt.subplots(2,2, figsize=(15, 10))\n",
    "      \n",
    "\n",
    "sns.histplot(data= data, x=\"WeightKg\", kde=True, color=\"skyblue\", ax=axs[0,0])\n",
    "sns.histplot(data= data, x=\"HeightCm\", kde=True, color=\"olive\", ax=axs[0,1])\n",
    "sns.histplot(data= data, x=\"BMI kg/m2\", kde=True, color=\"gold\", ax=axs[1,0])\n",
    "\n",
    "plt.show()"
   ]
  },
  {
   "cell_type": "markdown",
   "id": "6f3f4166",
   "metadata": {},
   "source": [
    "#### Since we have less data points its difficult to find the distribution of data.\n",
    "#### But seems that Height has a normal distribution curve"
   ]
  },
  {
   "cell_type": "code",
   "execution_count": 91,
   "id": "402ef6d5",
   "metadata": {},
   "outputs": [
    {
     "name": "stderr",
     "output_type": "stream",
     "text": [
      "C:\\Users\\praty\\anaconda3\\lib\\site-packages\\seaborn\\_decorators.py:36: FutureWarning: Pass the following variable as a keyword arg: x. From version 0.12, the only valid positional argument will be `data`, and passing other arguments without an explicit keyword will result in an error or misinterpretation.\n",
      "  warnings.warn(\n",
      "C:\\Users\\praty\\anaconda3\\lib\\site-packages\\seaborn\\_decorators.py:36: FutureWarning: Pass the following variable as a keyword arg: x. From version 0.12, the only valid positional argument will be `data`, and passing other arguments without an explicit keyword will result in an error or misinterpretation.\n",
      "  warnings.warn(\n",
      "C:\\Users\\praty\\anaconda3\\lib\\site-packages\\seaborn\\_decorators.py:36: FutureWarning: Pass the following variable as a keyword arg: x. From version 0.12, the only valid positional argument will be `data`, and passing other arguments without an explicit keyword will result in an error or misinterpretation.\n",
      "  warnings.warn(\n"
     ]
    },
    {
     "data": {
      "text/plain": [
       "<AxesSubplot:xlabel='BMI kg/m2'>"
      ]
     },
     "execution_count": 91,
     "metadata": {},
     "output_type": "execute_result"
    },
    {
     "data": {
      "image/png": "[encoded data removed]",
      "text/plain": [
       "<Figure size 1080x576 with 4 Axes>"
      ]
     },
     "metadata": {
      "needs_background": "light"
     },
     "output_type": "display_data"
    }
   ],
   "source": [
    "# Create boxplot to observe distribution of numerical value\n",
    "fig, axs = plt.subplots(2,2, figsize=(15,8))\n",
    "\n",
    "sns.boxplot(data['WeightKg'], ax = axs[0,0])\n",
    "sns.boxplot(data['HeightCm'], ax = axs[0,1])\n",
    "sns.boxplot(data['BMI kg/m2'], ax = axs[1,0])"
   ]
  },
  {
   "cell_type": "markdown",
   "id": "a554d26e",
   "metadata": {},
   "source": [
    "#### Weight and BMI have no outlier and heigt has some outlier"
   ]
  },
  {
   "cell_type": "markdown",
   "id": "4d46a127",
   "metadata": {},
   "source": [
    "#### Based on the observation of histogram and boxplot, I decided the outliers to be outside of minimum and maximum value for height"
   ]
  }
 ],
 "metadata": {
  "kernelspec": {
   "display_name": "Python 3",
   "language": "python",
   "name": "python3"
  },
  "language_info": {
   "codemirror_mode": {
    "name": "ipython",
    "version": 3
   },
   "file_extension": ".py",
   "mimetype": "text/x-python",
   "name": "python",
   "nbconvert_exporter": "python",
   "pygments_lexer": "ipython3",
   "version": "3.8.8"
  }
 },
 "nbformat": 4,
 "nbformat_minor": 5
}
